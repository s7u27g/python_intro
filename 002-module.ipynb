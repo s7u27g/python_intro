{
 "cells": [
  {
   "cell_type": "markdown",
   "metadata": {},
   "source": [
    "# 11. import \n",
    "- python は import を使用することでさらに便利になります。\n",
    "- import [module]　という書き方でモジュールを使用できるようになります。\n",
    "- import したモジュールに含まれる道具を使用したいとき [module名].[道具名]のように 「.」 を使用して呼び出す。<br>listの章で紹介した.append()みないなもの\n",
    "- モジュールとは、python を拡張するためのもので、例として、代表的なモジュールを以下に示す。"
   ]
  },
  {
   "cell_type": "code",
   "execution_count": null,
   "metadata": {},
   "outputs": [],
   "source": [
    "# ベクトル演算や行列演算など、様々な数値計算を容易に行うことができるモジュール\n",
    "import numpy"
   ]
  },
  {
   "cell_type": "code",
   "execution_count": null,
   "metadata": {},
   "outputs": [],
   "source": [
    "# 色々な種類のグラフを作成することができるモジュール\n",
    "import matplotlib.pyplot"
   ]
  },
  {
   "cell_type": "code",
   "execution_count": null,
   "metadata": {},
   "outputs": [],
   "source": [
    "# 天文データを保存するのに使用する FITS を扱うことができるモジュール\n",
    "import astropy.io.fits"
   ]
  },
  {
   "cell_type": "markdown",
   "metadata": {},
   "source": [
    "# 12. numpy\n",
    "- 11 で記述した通り、様々な数値計算を容易に行うことができるモジュールです。\n",
    "- まず、numpy を用いずにベクトルの足し算を行うには<br>どのようなことを行う必要があるのか以下に示す。"
   ]
  },
  {
   "cell_type": "code",
   "execution_count": null,
   "metadata": {},
   "outputs": [],
   "source": [
    "a = [1.0, 2.0, 3.0] #ベクトルa (floatの要素を3つもったlist)\n",
    "b = [4.0, 5.0, 6.0] #ベクトルb (floatの要素を3つもったlist)"
   ]
  },
  {
   "cell_type": "markdown",
   "metadata": {},
   "source": [
    "- a + b の結果で [5.0, 7.0, 9.0] が返って来て欲しい\n",
    "- 以下のセルを実行すると分かるが、結果は二つの list が横に連結される"
   ]
  },
  {
   "cell_type": "code",
   "execution_count": null,
   "metadata": {},
   "outputs": [],
   "source": [
    "a + b"
   ]
  },
  {
   "cell_type": "markdown",
   "metadata": {},
   "source": [
    "### では,どうするか\n",
    "- numpy の array を使用する。\n",
    "- numpy.array() に list を渡すような書き方をする。"
   ]
  },
  {
   "cell_type": "code",
   "execution_count": null,
   "metadata": {},
   "outputs": [],
   "source": [
    "a = numpy.array([1.0, 2.0, 3.0])\n",
    "a"
   ]
  },
  {
   "cell_type": "code",
   "execution_count": null,
   "metadata": {},
   "outputs": [],
   "source": [
    "b = numpy.array([4.0, 5.0, 6.0])\n",
    "b"
   ]
  },
  {
   "cell_type": "code",
   "execution_count": null,
   "metadata": {},
   "outputs": [],
   "source": [
    "a + b"
   ]
  },
  {
   "cell_type": "markdown",
   "metadata": {},
   "source": [
    "## 簡単に数列を作ることができる\n",
    "- numpy.linspace() を使用する。\n",
    "- 引数は以下の通り\n",
    "    - 第一引数: 最初の値\n",
    "    - 第二引数: 最後の値\n",
    "    - 第三引数: array の要素数"
   ]
  },
  {
   "cell_type": "code",
   "execution_count": null,
   "metadata": {},
   "outputs": [],
   "source": [
    "a = numpy.linspace(0, 99, 100)\n",
    "a"
   ]
  },
  {
   "cell_type": "code",
   "execution_count": null,
   "metadata": {},
   "outputs": [],
   "source": [
    "b = numpy.linspace(100, 199, 100)\n",
    "b"
   ]
  },
  {
   "cell_type": "code",
   "execution_count": null,
   "metadata": {},
   "outputs": [],
   "source": [
    "a + b"
   ]
  },
  {
   "cell_type": "markdown",
   "metadata": {},
   "source": [
    "## 円周率やネイピア数のような代表的な定数が用意されている。"
   ]
  },
  {
   "cell_type": "code",
   "execution_count": null,
   "metadata": {},
   "outputs": [],
   "source": [
    "pi = numpy.pi\n",
    "pi"
   ]
  },
  {
   "cell_type": "code",
   "execution_count": null,
   "metadata": {},
   "outputs": [],
   "source": [
    "e = numpy.e\n",
    "e"
   ]
  },
  {
   "cell_type": "markdown",
   "metadata": {},
   "source": [
    "## 三角関数や対数関数など、代表的な関数が用意されている。\n",
    "- numpy.sin() に numpy.array を入れる"
   ]
  },
  {
   "cell_type": "code",
   "execution_count": null,
   "metadata": {},
   "outputs": [],
   "source": [
    "pi = numpy.pi\n",
    "x = numpy.linspace(0, 2*pi, 100)\n",
    "y = numpy.sin(x)\n",
    "y"
   ]
  },
  {
   "cell_type": "markdown",
   "metadata": {},
   "source": [
    "## おまけ\n",
    "- numpy を使用せずにベクトルの足し算を行うにはどうするのか\n",
    "- def 文と for 文を駆使して関数を作る。"
   ]
  },
  {
   "cell_type": "code",
   "execution_count": null,
   "metadata": {},
   "outputs": [],
   "source": [
    "def sum_vector(a, b):\n",
    "    ret = []\n",
    "    for i, j in zip(a, b):\n",
    "        ret.append(i + j)\n",
    "    return ret"
   ]
  },
  {
   "cell_type": "code",
   "execution_count": null,
   "metadata": {},
   "outputs": [],
   "source": [
    "a = [1.0, 2.0, 3.0]\n",
    "b = [4.0, 5.0, 6.0]\n",
    "\n",
    "sum_vector(a, b)"
   ]
  },
  {
   "cell_type": "markdown",
   "metadata": {},
   "source": [
    "### zip?\n",
    "- for 文の章で renge() や list を右端に入れた。\n",
    "- zip とは、二つの list の中身を同時に抜き出しながらループを回すための書き方である。\n",
    "- numpy を使用しなければ、簡単なベクトル演算でもわざわざ関数を作る必要がある。"
   ]
  },
  {
   "cell_type": "code",
   "execution_count": null,
   "metadata": {},
   "outputs": [],
   "source": [
    "# 一つ目の list [1, 2, 3]と二つ目の list [4, 5, 6] それぞれから\n",
    "# 順番に i と j に要素を一つずつ代入しながらループが回る。\n",
    "for i, j in zip([1, 2, 3], [4, 5, 6]):\n",
    "    print(i)\n",
    "    print(j)"
   ]
  },
  {
   "cell_type": "markdown",
   "metadata": {},
   "source": [
    "# 12. matplotlib\n",
    "- 工事中"
   ]
  },
  {
   "cell_type": "code",
   "execution_count": null,
   "metadata": {},
   "outputs": [],
   "source": [
    "fig = matplotlib.pyplot.figure()\n",
    "ax = fig.add_subplot(111)\n",
    "\n",
    "pi = numpy.pi\n",
    "x = numpy.linspace(0, 2*pi, 100)\n",
    "y = numpy.sin(x)\n",
    "\n",
    "ax.plot(x, y)"
   ]
  },
  {
   "cell_type": "code",
   "execution_count": null,
   "metadata": {},
   "outputs": [],
   "source": []
  }
 ],
 "metadata": {
  "kernelspec": {
   "display_name": "Python 3",
   "language": "python",
   "name": "python3"
  },
  "language_info": {
   "codemirror_mode": {
    "name": "ipython",
    "version": 3
   },
   "file_extension": ".py",
   "mimetype": "text/x-python",
   "name": "python",
   "nbconvert_exporter": "python",
   "pygments_lexer": "ipython3",
   "version": "3.6.9"
  }
 },
 "nbformat": 4,
 "nbformat_minor": 4
}
