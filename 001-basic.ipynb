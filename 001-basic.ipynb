{
 "cells": [
  {
   "cell_type": "markdown",
   "metadata": {},
   "source": [
    "# 7. for 文\n",
    "- for 文を使うと同じ処理をループさせることができます。\n",
    "- ループを回す処理部分にはインデントを入れます。(スペース 4 つ分)\n",
    "- range() に値を渡すことで、その回数ループさせることができます。\n",
    "- 1 ループ毎に i に値が代入されます。\n",
    "- 下の例では、i に 0 から順に値が渡され、毎回 print されます。"
   ]
  },
  {
   "cell_type": "code",
   "execution_count": null,
   "metadata": {},
   "outputs": [],
   "source": [
    "for i in range(5):\n",
    "    print(i)"
   ]
  },
  {
   "cell_type": "markdown",
   "metadata": {},
   "source": [
    "### range() の部分に リストや辞書を渡すこともできます。(今回はリスト)\n",
    "- 1 要素ずつ取り出され i に渡され、毎回 print する処理"
   ]
  },
  {
   "cell_type": "code",
   "execution_count": null,
   "metadata": {},
   "outputs": [],
   "source": [
    "l = [1, 2.0, 3, 'python']\n",
    "\n",
    "for i in l:\n",
    "    print(i)"
   ]
  },
  {
   "cell_type": "markdown",
   "metadata": {},
   "source": [
    "### list の値を順番に足し算してみましょう。"
   ]
  },
  {
   "cell_type": "code",
   "execution_count": null,
   "metadata": {},
   "outputs": [],
   "source": [
    "ret = 0\n",
    "l = [1, 2, 3, 4, 5, 6, 7, 8, 9]\n",
    "for i in l:\n",
    "    ret += i\n",
    "ret"
   ]
  },
  {
   "cell_type": "markdown",
   "metadata": {},
   "source": [
    "# 8. if 文\n",
    "- if 文を使うと条件分岐をすることができます。\n",
    "- for 文と同様にインデントを入れます。\n",
    "- if 文の条件に合わないものは elif, else などで別の処理を書くことができます。"
   ]
  },
  {
   "cell_type": "code",
   "execution_count": null,
   "metadata": {},
   "outputs": [],
   "source": [
    "x = 10\n",
    "if x < 9:\n",
    "    print('x is less than 9...')\n",
    "\n",
    "elif x > 9:\n",
    "    print('x is larger than 9!!!')\n",
    "    \n",
    "else:\n",
    "    print('x is equal to 9 !')"
   ]
  },
  {
   "cell_type": "code",
   "execution_count": null,
   "metadata": {},
   "outputs": [],
   "source": []
  }
 ],
 "metadata": {
  "kernelspec": {
   "display_name": "Python 3",
   "language": "python",
   "name": "python3"
  },
  "language_info": {
   "codemirror_mode": {
    "name": "ipython",
    "version": 3
   },
   "file_extension": ".py",
   "mimetype": "text/x-python",
   "name": "python",
   "nbconvert_exporter": "python",
   "pygments_lexer": "ipython3",
   "version": "3.6.9"
  }
 },
 "nbformat": 4,
 "nbformat_minor": 4
}
