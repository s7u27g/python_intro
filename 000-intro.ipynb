{
 "cells": [
  {
   "cell_type": "markdown",
   "metadata": {},
   "source": [
    "# 0. Hello World\n",
    "- jupyter の cell は shift + return(enter) で実行できます。\n",
    "- print() の中に '' で囲った文字を入れると、その文字が出力されます。"
   ]
  },
  {
   "cell_type": "code",
   "execution_count": null,
   "metadata": {},
   "outputs": [],
   "source": [
    "print('Hello World')"
   ]
  },
  {
   "cell_type": "markdown",
   "metadata": {},
   "source": [
    "# 1. 変数に値を代入\n",
    "- x という箱(変数)に数字を格納します。(x の部分は好きなものを指定できます。)\n",
    "- '変数' = '数字' とすることで値を代入することができます。\n",
    "- print() に x を渡すと、その中身を見ることができます。"
   ]
  },
  {
   "cell_type": "code",
   "execution_count": null,
   "metadata": {},
   "outputs": [],
   "source": [
    "x = 3\n",
    "print(x)"
   ]
  },
  {
   "cell_type": "markdown",
   "metadata": {},
   "source": [
    "# 2. 変数の型\n",
    "- 変数には int, float, str, bool, ... などがあります。<br>(他にもありますが、それは後ほど紹介)\n",
    "    - int -> 整数型\n",
    "    - float -> 浮動小数点型\n",
    "    - str -> 文字型\n",
    "    - bool -> 論理型\n",
    "- type() の中に変数または数字、文字などを入れると「型」を返します。"
   ]
  },
  {
   "cell_type": "code",
   "execution_count": null,
   "metadata": {},
   "outputs": [],
   "source": [
    "x = 3\n",
    "type(x)"
   ]
  },
  {
   "cell_type": "code",
   "execution_count": null,
   "metadata": {},
   "outputs": [],
   "source": [
    "x = 3.1\n",
    "type(x)"
   ]
  },
  {
   "cell_type": "code",
   "execution_count": null,
   "metadata": {},
   "outputs": [],
   "source": [
    "x = 'Hello World'\n",
    "type(x)"
   ]
  },
  {
   "cell_type": "code",
   "execution_count": null,
   "metadata": {},
   "outputs": [],
   "source": [
    "x = True\n",
    "type(x)"
   ]
  },
  {
   "cell_type": "markdown",
   "metadata": {},
   "source": [
    "# 3. 四則演算 (int と float)"
   ]
  },
  {
   "cell_type": "markdown",
   "metadata": {},
   "source": [
    "### int どうしの足し算\n",
    "- 結果は int となる。"
   ]
  },
  {
   "cell_type": "code",
   "execution_count": null,
   "metadata": {},
   "outputs": [],
   "source": [
    "x = 2 # int\n",
    "y = 5 # int\n",
    "z = x + y\n",
    "print(z)\n",
    "type(z)"
   ]
  },
  {
   "cell_type": "markdown",
   "metadata": {},
   "source": [
    "## float どうしの引き算\n",
    "- 結果は float となる。"
   ]
  },
  {
   "cell_type": "code",
   "execution_count": null,
   "metadata": {},
   "outputs": [],
   "source": [
    "x = 2.1 # float\n",
    "y = 5.7 # float\n",
    "z = x - y\n",
    "print(z)\n",
    "type(z)"
   ]
  },
  {
   "cell_type": "markdown",
   "metadata": {},
   "source": [
    "## int と float の足し算\n",
    "- 結果は float となる。"
   ]
  },
  {
   "cell_type": "code",
   "execution_count": null,
   "metadata": {},
   "outputs": [],
   "source": [
    "x = 2 # int\n",
    "y = 5.8 # float\n",
    "z = x + y\n",
    "print(z)\n",
    "type(z)"
   ]
  },
  {
   "cell_type": "markdown",
   "metadata": {},
   "source": [
    "## 掛け算と割り算\n",
    "- 掛け算には * を使用します。\n",
    "- 割り算には / を使用します。\n",
    "    - 割り算は int どうしでも float となります。\n",
    "    - // 演算子を使用すれば、int どうし割り算は int になります。<br>ただし、小数点以下は切り捨て"
   ]
  },
  {
   "cell_type": "code",
   "execution_count": null,
   "metadata": {},
   "outputs": [],
   "source": [
    "x = 2\n",
    "y = 3\n",
    "z = x * y\n",
    "print(z)\n",
    "\n",
    "x = 6\n",
    "y = 3\n",
    "z = x/y\n",
    "print(z)\n",
    "\n",
    "x = 8\n",
    "y = 3\n",
    "z = x//y\n",
    "print(z)"
   ]
  },
  {
   "cell_type": "markdown",
   "metadata": {},
   "source": [
    "### この辺りはいろいろややこしいので下のセルで色々実験してみてください。"
   ]
  },
  {
   "cell_type": "code",
   "execution_count": null,
   "metadata": {},
   "outputs": [],
   "source": [
    "# 実験スペース\n",
    "\n",
    "\n",
    "\n"
   ]
  },
  {
   "cell_type": "markdown",
   "metadata": {},
   "source": [
    "# 4. 文字列型の足し算\n",
    "- str も足し算できます。"
   ]
  },
  {
   "cell_type": "code",
   "execution_count": null,
   "metadata": {},
   "outputs": [],
   "source": [
    "x = 'Hello'\n",
    "y = 'World'\n",
    "z = x + y\n",
    "print(z)"
   ]
  },
  {
   "cell_type": "code",
   "execution_count": null,
   "metadata": {},
   "outputs": [],
   "source": [
    "x = 'Hello'\n",
    "y = 'World'\n",
    "z = x + ' ' +y\n",
    "print(z)"
   ]
  },
  {
   "cell_type": "markdown",
   "metadata": {},
   "source": [
    "# 5. 数字と文字の足し算\n",
    "- str と int, float の足し算はできません。\n",
    "- 型を揃えることで足し算できるようになります。\n",
    "- str() や float(), int() に変数や値を渡すことで型変換できます。<br>型変換できない場合もあります。"
   ]
  },
  {
   "cell_type": "code",
   "execution_count": null,
   "metadata": {},
   "outputs": [],
   "source": [
    "# ダメな例\n",
    "x = 'python' # str\n",
    "y = 3 # int\n",
    "z = x + y"
   ]
  },
  {
   "cell_type": "code",
   "execution_count": null,
   "metadata": {},
   "outputs": [],
   "source": [
    "x = 'python' #str\n",
    "y = 3 # int\n",
    "y = str(y) # str\n",
    "z = x + y\n",
    "print(z)"
   ]
  },
  {
   "cell_type": "code",
   "execution_count": null,
   "metadata": {},
   "outputs": [],
   "source": [
    "# python は数字にはなれない\n",
    "x = 'python'\n",
    "x = int(x)"
   ]
  },
  {
   "cell_type": "markdown",
   "metadata": {},
   "source": [
    "# 6. list と dict\n",
    "- 少し難易度が上がります。\n",
    "    - list -> リスト型\n",
    "    - dict -> 辞書型\n",
    "- list は [ ] の中に複数の変数or値を「 , 」区切りで格納したものです。\n",
    "- dict は { } の中に「'key': 'value'」 という形を「 , 」区切りで格納したものです。"
   ]
  },
  {
   "cell_type": "code",
   "execution_count": null,
   "metadata": {},
   "outputs": [],
   "source": [
    "l = [1, 2.0, 3, 'python']\n",
    "type(l)"
   ]
  },
  {
   "cell_type": "code",
   "execution_count": null,
   "metadata": {},
   "outputs": [],
   "source": [
    "d = {'key1': 1, 'key2': 2.0, 'color': 'red'}\n",
    "type(d)"
   ]
  },
  {
   "cell_type": "code",
   "execution_count": null,
   "metadata": {},
   "outputs": [],
   "source": [
    "# index を指定することでリストから中身を取り出すことができます。\n",
    "# (index とは何番目を表す数字のことです。)\n",
    "# index は 0 からはじまります。\n",
    "print(l[0])\n",
    "print(l[1])\n",
    "print(l[2])\n",
    "print(l[3])"
   ]
  },
  {
   "cell_type": "code",
   "execution_count": null,
   "metadata": {},
   "outputs": [],
   "source": [
    "# key を指定することで辞書から値を取り出すことができます。\n",
    "print(d['key1'])\n",
    "print(d['key2'])\n",
    "print(d['color'])"
   ]
  },
  {
   "cell_type": "code",
   "execution_count": null,
   "metadata": {},
   "outputs": [],
   "source": [
    "# おまけ\n",
    "a = l[3] + str(l[2])\n",
    "print(a)"
   ]
  },
  {
   "cell_type": "markdown",
   "metadata": {},
   "source": [
    "### list に値を追加してみましょう。\n",
    "- list に対して .append() を使うことで値を追加できます。\n",
    "- .append() の 「 . 」は python において、非常に重要な役割を持っています。<br>ややこしいのでここでは説明しませんが、「そういうものがあるんだな〜」くらいで覚えておきましょう。"
   ]
  },
  {
   "cell_type": "code",
   "execution_count": null,
   "metadata": {},
   "outputs": [],
   "source": [
    "l = []\n",
    "l"
   ]
  },
  {
   "cell_type": "code",
   "execution_count": null,
   "metadata": {},
   "outputs": [],
   "source": [
    "l.append(1)\n",
    "l"
   ]
  },
  {
   "cell_type": "code",
   "execution_count": null,
   "metadata": {},
   "outputs": [],
   "source": [
    "l.append('google')\n",
    "l"
   ]
  },
  {
   "cell_type": "markdown",
   "metadata": {},
   "source": [
    "### list のインデックスを指定して値を代入することで上書きすることができます。"
   ]
  },
  {
   "cell_type": "code",
   "execution_count": null,
   "metadata": {},
   "outputs": [],
   "source": [
    "l[1] = 'apple'\n",
    "l"
   ]
  },
  {
   "cell_type": "code",
   "execution_count": null,
   "metadata": {},
   "outputs": [],
   "source": []
  }
 ],
 "metadata": {
  "kernelspec": {
   "display_name": "Python 3",
   "language": "python",
   "name": "python3"
  },
  "language_info": {
   "codemirror_mode": {
    "name": "ipython",
    "version": 3
   },
   "file_extension": ".py",
   "mimetype": "text/x-python",
   "name": "python",
   "nbconvert_exporter": "python",
   "pygments_lexer": "ipython3",
   "version": "3.6.9"
  }
 },
 "nbformat": 4,
 "nbformat_minor": 4
}
